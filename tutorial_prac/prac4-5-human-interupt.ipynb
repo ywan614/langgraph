{
 "cells": [
  {
   "cell_type": "code",
   "execution_count": 17,
   "metadata": {},
   "outputs": [
    {
     "name": "stdout",
     "output_type": "stream",
     "text": [
      "================================\u001b[1m Human Message \u001b[0m=================================\n",
      "\n",
      "I'm learning LangGraph. Could you do some research on it for me?\n",
      "==================================\u001b[1m Ai Message \u001b[0m==================================\n",
      "Tool Calls:\n",
      "  tavily_search_results_json (call_ttkggTOyRHR0vX4F5xpQqIwe)\n",
      " Call ID: call_ttkggTOyRHR0vX4F5xpQqIwe\n",
      "  Args:\n",
      "    query: LangGraph programming language\n",
      "  tavily_search_results_json (call_9inlEVhYHFBDfJum13SgoVXM)\n",
      " Call ID: call_9inlEVhYHFBDfJum13SgoVXM\n",
      "  Args:\n",
      "    query: LangGraph tutorial\n"
     ]
    }
   ],
   "source": [
    "from typing import Annotated\n",
    "\n",
    "from langchain_community.tools.tavily_search import TavilySearchResults\n",
    "from langchain_core.messages import BaseMessage\n",
    "from typing_extensions import TypedDict\n",
    "\n",
    "from langgraph.checkpoint.sqlite import SqliteSaver\n",
    "from langgraph.graph import StateGraph\n",
    "from langgraph.graph.message import add_messages\n",
    "from langgraph.prebuilt import ToolNode\n",
    "from langchain_openai import AzureChatOpenAI\n",
    "import os\n",
    "from langgraph.prebuilt import ToolNode, tools_condition\n",
    "\n",
    "class State(TypedDict):\n",
    "    messages: Annotated[list, add_messages]\n",
    "\n",
    "\n",
    "graph_builder = StateGraph(State)\n",
    "\n",
    "os.environ[\"TAVILY_API_KEY\"] = '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'\n",
    "tool = TavilySearchResults(max_results=2)\n",
    "tools = [tool]\n",
    "\n",
    "APIKEY = os.environ.get('AZURE_OPENAI_4o_KEY1')\n",
    "ENDPOINT = os.environ.get('AZURE_ENDPOINT_BMD2')\n",
    "llm = AzureChatOpenAI(\n",
    "    openai_api_version=\"2024-02-15-preview\",\n",
    "    deployment_name='gpt-4o',\n",
    "    azure_endpoint=ENDPOINT,\n",
    "    api_key=APIKEY,\n",
    ")\n",
    "llm_with_tools = llm.bind_tools(tools)\n",
    "\n",
    "\n",
    "def chatbot(state: State):\n",
    "    return {\"messages\": [llm_with_tools.invoke(state[\"messages\"])]}\n",
    "\n",
    "\n",
    "graph_builder.add_node(\"chatbot\", chatbot)\n",
    "\n",
    "tool_node = ToolNode(tools=[tool])\n",
    "graph_builder.add_node(\"tools\", tool_node)\n",
    "\n",
    "graph_builder.add_conditional_edges(\n",
    "    \"chatbot\",\n",
    "    tools_condition,\n",
    ")\n",
    "graph_builder.add_edge(\"tools\", \"chatbot\")\n",
    "graph_builder.set_entry_point(\"chatbot\")\n",
    "\n",
    "memory = SqliteSaver.from_conn_string(\":memory:\")\n",
    "graph = graph_builder.compile(\n",
    "    checkpointer=memory,\n",
    "    # This is new!\n",
    "    interrupt_before=[\"tools\"],\n",
    "    # Note: can also interrupt __after__ actions, if desired.\n",
    "    # interrupt_after=[\"tools\"]\n",
    ")\n",
    "\n",
    "user_input = \"I'm learning LangGraph. Could you do some research on it for me?\"\n",
    "config = {\"configurable\": {\"thread_id\": \"1\"}}\n",
    "# The config is the **second positional argument** to stream() or invoke()!\n",
    "events = graph.stream(\n",
    "    {\"messages\": [(\"user\", user_input)]}, config, stream_mode=\"values\"\n",
    ")\n",
    "for event in events:\n",
    "    if \"messages\" in event:\n",
    "        event[\"messages\"][-1].pretty_print()"
   ]
  },
  {
   "cell_type": "code",
   "execution_count": 18,
   "metadata": {},
   "outputs": [
    {
     "data": {
      "text/plain": [
       "('tools',)"
      ]
     },
     "execution_count": 18,
     "metadata": {},
     "output_type": "execute_result"
    }
   ],
   "source": [
    "snapshot = graph.get_state(config)\n",
    "snapshot.next"
   ]
  },
  {
   "cell_type": "code",
   "execution_count": 19,
   "metadata": {},
   "outputs": [
    {
     "data": {
      "text/plain": [
       "[{'name': 'tavily_search_results_json',\n",
       "  'args': {'query': 'LangGraph programming language'},\n",
       "  'id': 'call_ttkggTOyRHR0vX4F5xpQqIwe'},\n",
       " {'name': 'tavily_search_results_json',\n",
       "  'args': {'query': 'LangGraph tutorial'},\n",
       "  'id': 'call_9inlEVhYHFBDfJum13SgoVXM'}]"
      ]
     },
     "execution_count": 19,
     "metadata": {},
     "output_type": "execute_result"
    }
   ],
   "source": [
    "existing_message = snapshot.values[\"messages\"][-1]\n",
    "existing_message.tool_calls"
   ]
  },
  {
   "cell_type": "code",
   "execution_count": 12,
   "metadata": {},
   "outputs": [
    {
     "name": "stdout",
     "output_type": "stream",
     "text": [
      "=================================\u001b[1m Tool Message \u001b[0m=================================\n",
      "Name: tavily_search_results_json\n",
      "\n",
      "[{\"url\": \"https://langchain-ai.github.io/langgraph/tutorials/\", \"content\": \"Basic Reflection: Prompting the agent to reflect on and revise its outputs. Reflexion: Critiquing missing and superfluous details to guide next steps. Language Agent Tree Search: Using reflection and rewards to drive a tree search over agents. Self-Discovering Agent: Analyzing an agent that learns about its own capabilities.\"}, {\"url\": \"https://medium.com/@cplog/introduction-to-langgraph-a-beginners-guide-14f9be027141\", \"content\": \"Feb 15, 2024. --. 2. LangGraph is a powerful tool for building stateful, multi-actor applications with Large Language Models (LLMs). It extends the LangChain library, allowing you to coordinate ...\"}]\n",
      "==================================\u001b[1m Ai Message \u001b[0m==================================\n",
      "\n",
      "### Overview of LangGraph\n",
      "\n",
      "1. **Medium Article**: [Introduction to LangGraph: A Beginner's Guide](https://medium.com/@cplog/introduction-to-langgraph-a-beginners-guide-14f9be027141)\n",
      "   - LangGraph is a powerful tool for building stateful, multi-actor applications with Large Language Models (LLMs). It extends the LangChain library, enabling seamless coordination across different models and functions.\n",
      "   - **LangChain**: LangGraph builds on the LangChain library, which is known for its ability to manage complex workflows involving LLMs.\n",
      "\n",
      "2. **Official Documentation**: [LangGraph Overview](https://langchain-ai.github.io/langgraph/)\n",
      "   - LangGraph is designed to be framework-agnostic, meaning it can work with various programming environments.\n",
      "   - It extends the core Runnable API to streamline state management across multiple conversation turns or tool usages.\n",
      "   - The tool is particularly useful for applications like customer support assistants, where managing the state and coordinating between multiple actors or models is crucial.\n",
      "\n",
      "### Key Features of LangGraph\n",
      "\n",
      "1. **Medium Article**: [LangGraph: A Comprehensive Guide for Beginners](https://medium.com/@bhavikjikadara/langgraph-a-comprehensive-guide-for-beginners-ef17d3dd5383)\n",
      "   - **Graph-based Data Structures**: LangGraph allows the definition of complex data structures using graph theory concepts.\n",
      "   - **Functional Programming**: Emphasizes immutability, recursion, and other functional programming paradigms.\n",
      "   - **State Management**: Seamlessly manages states across multiple turns of a conversation or tool usage, which is vital for applications requiring complex interactions.\n",
      "\n",
      "2. **Medium Article**: [Introduction to LangGraph: A Beginner's Guide](https://medium.com/@cplog/introduction-to-langgraph-a-beginners-guide-14f9be027141)\n",
      "   - Reinforces the features mentioned above, highlighting its ability to build stateful, multi-actor applications.\n",
      "\n",
      "### Tutorials and Learning Resources\n",
      "\n",
      "1. **Official Documentation**: [LangGraph Tutorials](https://langchain-ai.github.io/langgraph/tutorials/)\n",
      "   - **Basic Reflection**: Techniques for prompting an agent to reflect and revise its outputs.\n",
      "   - **Reflexion**: Strategies for critiquing missing and superfluous details to guide the agent's next steps.\n",
      "   - **Language Agent Tree Search**: Using reflection and rewards to drive a tree search over agents.\n",
      "   - **Self-Discovering Agent**: Analyzing an agent that learns about its capabilities over time.\n",
      "\n",
      "2. **Medium Article**: [Introduction to LangGraph: A Beginner's Guide](https://medium.com/@cplog/introduction-to-langgraph-a-beginners-guide-14f9be027141)\n",
      "   - Offers a beginner-friendly introduction to LangGraph, including its core concepts and basic usage.\n",
      "\n",
      "### Summary\n",
      "\n",
      "LangGraph is a versatile tool for building sophisticated, stateful applications involving multiple actors and large language models. Its framework-agnostic nature and strong emphasis on functional programming and graph-based data structures make it a powerful asset for developers working on complex, interactive systems. The official documentation and various Medium articles provide comprehensive guides and tutorials to help you get started with LangGraph.\n"
     ]
    }
   ],
   "source": [
    "# `None` will append nothing new to the current state, letting it resume as if it had never been interrupted\n",
    "events = graph.stream(None, config, stream_mode=\"values\")\n",
    "for event in events:\n",
    "    if \"messages\" in event:\n",
    "        event[\"messages\"][-1].pretty_print()"
   ]
  },
  {
   "cell_type": "code",
   "execution_count": 21,
   "metadata": {},
   "outputs": [
    {
     "data": {
      "text/plain": [
       "[{'name': 'tavily_search_results_json',\n",
       "  'args': {'query': 'LangGraph programming language'},\n",
       "  'id': 'call_ttkggTOyRHR0vX4F5xpQqIwe'},\n",
       " {'name': 'tavily_search_results_json',\n",
       "  'args': {'query': 'LangGraph tutorial'},\n",
       "  'id': 'call_9inlEVhYHFBDfJum13SgoVXM'}]"
      ]
     },
     "execution_count": 21,
     "metadata": {},
     "output_type": "execute_result"
    }
   ],
   "source": [
    "existing_message.tool_calls"
   ]
  },
  {
   "cell_type": "code",
   "execution_count": 22,
   "metadata": {},
   "outputs": [
    {
     "name": "stdout",
     "output_type": "stream",
     "text": [
      "==================================\u001b[1m Ai Message \u001b[0m==================================\n",
      "\n",
      "LangGraph is a library for building stateful, multi-actor applications with LLMs.\n"
     ]
    }
   ],
   "source": [
    "from langchain_core.messages import AIMessage, ToolMessage\n",
    "answer = (\n",
    "    \"LangGraph is a library for building stateful, multi-actor applications with LLMs.\"\n",
    ")\n",
    "new_messages = [\n",
    "    # The LLM API expects some ToolMessage to match its tool call. We'll satisfy that here.\n",
    "    ToolMessage(content=answer, tool_call_id=existing_message.tool_calls[0][\"id\"]),\n",
    "    # And then directly \"put words in the LLM's mouth\" by populating its response.\n",
    "    AIMessage(content=answer),\n",
    "]\n",
    "\n",
    "new_messages[-1].pretty_print()\n"
   ]
  },
  {
   "cell_type": "code",
   "execution_count": 23,
   "metadata": {},
   "outputs": [
    {
     "name": "stdout",
     "output_type": "stream",
     "text": [
      "\n",
      "\n",
      "Last 2 messages;\n",
      "[ToolMessage(content='LangGraph is a library for building stateful, multi-actor applications with LLMs.', id='a13d310e-786f-49be-9a60-7cdd2d463c46', tool_call_id='call_ttkggTOyRHR0vX4F5xpQqIwe'), AIMessage(content='LangGraph is a library for building stateful, multi-actor applications with LLMs.', id='e020a0fd-1048-48b1-ba09-0a6125fc932d')]\n"
     ]
    }
   ],
   "source": [
    "graph.update_state(\n",
    "    # Which state to update\n",
    "    config,\n",
    "    # The updated values to provide. The messages in our `State` are \"append-only\", meaning this will be appended\n",
    "    # to the existing state. We will review how to update existing messages in the next section!\n",
    "    {\"messages\": new_messages},\n",
    ")\n",
    "\n",
    "print(\"\\n\\nLast 2 messages;\")\n",
    "print(graph.get_state(config).values[\"messages\"][-2:])\n",
    "\n",
    "# graph.update_state(\n",
    "#     config,\n",
    "#     {\"messages\": [AIMessage(content=\"I'm an AI expert!\")]},\n",
    "#     # Which node for this function to act as. It will automatically continue\n",
    "#     # processing as if this node just ran.\n",
    "#     as_node=\"chatbot\",\n",
    "# )"
   ]
  },
  {
   "cell_type": "code",
   "execution_count": 28,
   "metadata": {},
   "outputs": [
    {
     "data": {
      "text/plain": [
       "{'configurable': {'thread_id': '1',\n",
       "  'thread_ts': '1ef2fa68-6513-6b44-8003-6f90ed56b570'}}"
      ]
     },
     "execution_count": 28,
     "metadata": {},
     "output_type": "execute_result"
    }
   ],
   "source": [
    "graph.update_state(\n",
    "    config,\n",
    "    {\"messages\": [AIMessage(content=\"I'm an AI expert!\")]},\n",
    "    # Which node for this function to act as. It will automatically continue\n",
    "    # processing as if this node just ran.\n",
    "    as_node=\"chatbot\",\n",
    ")"
   ]
  },
  {
   "cell_type": "code",
   "execution_count": 30,
   "metadata": {},
   "outputs": [
    {
     "name": "stdout",
     "output_type": "stream",
     "text": [
      "[ToolMessage(content='LangGraph is a library for building stateful, multi-actor applications with LLMs.', id='a13d310e-786f-49be-9a60-7cdd2d463c46', tool_call_id='call_ttkggTOyRHR0vX4F5xpQqIwe'), AIMessage(content='LangGraph is a library for building stateful, multi-actor applications with LLMs.', id='e020a0fd-1048-48b1-ba09-0a6125fc932d'), AIMessage(content=\"I'm an AI expert!\", id='0fb8d508-5846-4785-bc36-0de0e9ee654f')]\n",
      "()\n"
     ]
    }
   ],
   "source": [
    "snapshot = graph.get_state(config)\n",
    "print(snapshot.values[\"messages\"][-3:])\n",
    "print(snapshot.next)"
   ]
  },
  {
   "cell_type": "markdown",
   "metadata": {},
   "source": [
    "new thread"
   ]
  },
  {
   "cell_type": "code",
   "execution_count": 31,
   "metadata": {},
   "outputs": [
    {
     "name": "stdout",
     "output_type": "stream",
     "text": [
      "================================\u001b[1m Human Message \u001b[0m=================================\n",
      "\n",
      "I'm learning LangGraph. Could you do some research on it for me?\n",
      "==================================\u001b[1m Ai Message \u001b[0m==================================\n",
      "Tool Calls:\n",
      "  tavily_search_results_json (call_HMdHS8gqVRh1WVt8Bz0pWrzM)\n",
      " Call ID: call_HMdHS8gqVRh1WVt8Bz0pWrzM\n",
      "  Args:\n",
      "    query: LangGraph programming language\n",
      "  tavily_search_results_json (call_v6SeDbdhzrJJT9Jz3cTY8aaj)\n",
      " Call ID: call_v6SeDbdhzrJJT9Jz3cTY8aaj\n",
      "  Args:\n",
      "    query: LangGraph language tutorials\n"
     ]
    }
   ],
   "source": [
    "user_input = \"I'm learning LangGraph. Could you do some research on it for me?\"\n",
    "config = {\"configurable\": {\"thread_id\": \"2\"}}  # we'll use thread_id = 2 here\n",
    "events = graph.stream(\n",
    "    {\"messages\": [(\"user\", user_input)]}, config, stream_mode=\"values\"\n",
    ")\n",
    "for event in events:\n",
    "    if \"messages\" in event:\n",
    "        event[\"messages\"][-1].pretty_print()"
   ]
  },
  {
   "cell_type": "code",
   "execution_count": 32,
   "metadata": {},
   "outputs": [
    {
     "name": "stdout",
     "output_type": "stream",
     "text": [
      "Original\n",
      "Message ID run-355b32b3-470a-49eb-aab6-2b5778c7fd6c-0\n",
      "{'name': 'tavily_search_results_json', 'args': {'query': 'LangGraph programming language'}, 'id': 'call_HMdHS8gqVRh1WVt8Bz0pWrzM'}\n",
      "Updated\n",
      "{'name': 'tavily_search_results_json', 'args': {'query': 'LangGraph human-in-the-loop workflow'}, 'id': 'call_HMdHS8gqVRh1WVt8Bz0pWrzM'}\n",
      "Message ID run-355b32b3-470a-49eb-aab6-2b5778c7fd6c-0\n",
      "\n",
      "\n",
      "Tool calls\n"
     ]
    },
    {
     "data": {
      "text/plain": [
       "[{'name': 'tavily_search_results_json',\n",
       "  'args': {'query': 'LangGraph human-in-the-loop workflow'},\n",
       "  'id': 'call_HMdHS8gqVRh1WVt8Bz0pWrzM'}]"
      ]
     },
     "execution_count": 32,
     "metadata": {},
     "output_type": "execute_result"
    }
   ],
   "source": [
    "from langchain_core.messages import AIMessage\n",
    "\n",
    "snapshot = graph.get_state(config)\n",
    "existing_message = snapshot.values[\"messages\"][-1]\n",
    "print(\"Original\")\n",
    "print(\"Message ID\", existing_message.id)\n",
    "print(existing_message.tool_calls[0])\n",
    "new_tool_call = existing_message.tool_calls[0].copy()\n",
    "new_tool_call[\"args\"][\"query\"] = \"LangGraph human-in-the-loop workflow\"\n",
    "new_message = AIMessage(\n",
    "    content=existing_message.content,\n",
    "    tool_calls=[new_tool_call],\n",
    "    # Important! The ID is how LangGraph knows to REPLACE the message in the state rather than APPEND this messages\n",
    "    id=existing_message.id,\n",
    ")\n",
    "\n",
    "print(\"Updated\")\n",
    "print(new_message.tool_calls[0])\n",
    "print(\"Message ID\", new_message.id)\n",
    "graph.update_state(config, {\"messages\": [new_message]})\n",
    "\n",
    "print(\"\\n\\nTool calls\")\n",
    "graph.get_state(config).values[\"messages\"][-1].tool_calls"
   ]
  },
  {
   "cell_type": "code",
   "execution_count": 34,
   "metadata": {},
   "outputs": [
    {
     "data": {
      "text/plain": [
       "AIMessage(content='', id='run-355b32b3-470a-49eb-aab6-2b5778c7fd6c-0', tool_calls=[{'name': 'tavily_search_results_json', 'args': {'query': 'LangGraph human-in-the-loop workflow'}, 'id': 'call_HMdHS8gqVRh1WVt8Bz0pWrzM'}])"
      ]
     },
     "execution_count": 34,
     "metadata": {},
     "output_type": "execute_result"
    }
   ],
   "source": [
    "graph.get_state(config).values[\"messages\"][-1]"
   ]
  },
  {
   "cell_type": "code",
   "execution_count": null,
   "metadata": {},
   "outputs": [],
   "source": []
  }
 ],
 "metadata": {
  "kernelspec": {
   "display_name": "machine_learning",
   "language": "python",
   "name": "python3"
  },
  "language_info": {
   "codemirror_mode": {
    "name": "ipython",
    "version": 3
   },
   "file_extension": ".py",
   "mimetype": "text/x-python",
   "name": "python",
   "nbconvert_exporter": "python",
   "pygments_lexer": "ipython3",
   "version": "3.11.4"
  }
 },
 "nbformat": 4,
 "nbformat_minor": 2
}
